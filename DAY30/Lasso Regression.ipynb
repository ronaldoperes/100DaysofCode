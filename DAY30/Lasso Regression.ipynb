{
 "cells": [
  {
   "cell_type": "code",
   "execution_count": 14,
   "id": "11e8fb43",
   "metadata": {},
   "outputs": [],
   "source": [
    "from sklearn import datasets\n",
    "from sklearn.linear_model import Lasso\n",
    "from sklearn.model_selection import train_test_split\n",
    "import numpy as np"
   ]
  },
  {
   "cell_type": "code",
   "execution_count": 2,
   "id": "1caf5756",
   "metadata": {},
   "outputs": [],
   "source": [
    "df=datasets.load_boston()"
   ]
  },
  {
   "cell_type": "code",
   "execution_count": 3,
   "id": "9497e183",
   "metadata": {},
   "outputs": [],
   "source": [
    "X=df.data\n",
    "y=df.target"
   ]
  },
  {
   "cell_type": "code",
   "execution_count": 4,
   "id": "8800d2d3",
   "metadata": {},
   "outputs": [
    {
     "data": {
      "text/plain": [
       "dict_keys(['data', 'target', 'feature_names', 'DESCR', 'filename'])"
      ]
     },
     "execution_count": 4,
     "metadata": {},
     "output_type": "execute_result"
    }
   ],
   "source": [
    "df.keys()"
   ]
  },
  {
   "cell_type": "code",
   "execution_count": 8,
   "id": "709fd5d3",
   "metadata": {},
   "outputs": [],
   "source": [
    "x_train,x_test,y_train,y_test=train_test_split(X,y,test_size=0.3,random_state=42)"
   ]
  },
  {
   "cell_type": "code",
   "execution_count": 9,
   "id": "deb2fc1f",
   "metadata": {},
   "outputs": [
    {
     "data": {
      "text/plain": [
       "(0.6559060829154338, 0.6899591642958296)"
      ]
     },
     "execution_count": 9,
     "metadata": {},
     "output_type": "execute_result"
    }
   ],
   "source": [
    "model=Lasso(alpha=1.0)\n",
    "model.fit(x_train,y_train)\n",
    "model.score(x_test,y_test),model.score(x_train,y_train)"
   ]
  },
  {
   "cell_type": "code",
   "execution_count": 10,
   "id": "847d2571",
   "metadata": {},
   "outputs": [
    {
     "data": {
      "text/plain": [
       "(0.6748582731460069, 0.6899591642958296)"
      ]
     },
     "execution_count": 10,
     "metadata": {},
     "output_type": "execute_result"
    }
   ],
   "source": [
    "from sklearn.linear_model import LassoCV\n",
    "model_cv=LassoCV(cv=5)\n",
    "model_cv.fit(x_train,y_train)\n",
    "model_cv.score(x_test,y_test),model.score(x_train,y_train)"
   ]
  },
  {
   "cell_type": "code",
   "execution_count": 11,
   "id": "bfaf11f5",
   "metadata": {},
   "outputs": [],
   "source": [
    "y_pred=model.predict(x_test)"
   ]
  },
  {
   "cell_type": "code",
   "execution_count": 12,
   "id": "9b4e1653",
   "metadata": {},
   "outputs": [
    {
     "name": "stdout",
     "output_type": "stream",
     "text": [
      "3.6587976291978785\n"
     ]
    }
   ],
   "source": [
    "MAE=0\n",
    "for i in range(len(y_test)):\n",
    "    if y_test[i]-y_pred[i]<0:\n",
    "        MAE-=y_test[i]-y_pred[i]\n",
    "    else:\n",
    "        MAE+=y_test[i]-y_pred[i]\n",
    "print(MAE/len(y_test))"
   ]
  },
  {
   "cell_type": "code",
   "execution_count": 15,
   "id": "bff7eef2",
   "metadata": {},
   "outputs": [
    {
     "name": "stdout",
     "output_type": "stream",
     "text": [
      "5.063546477326341\n"
     ]
    }
   ],
   "source": [
    "RMSE=0\n",
    "for i in range(len(y_test)):\n",
    "        RMSE+=(y_test[i]-y_pred[i])**2\n",
    "print(np.sqrt(RMSE/len(y_test)))"
   ]
  },
  {
   "cell_type": "code",
   "execution_count": 16,
   "id": "d129ba98",
   "metadata": {},
   "outputs": [
    {
     "data": {
      "text/plain": [
       "0.6559060829154337"
      ]
     },
     "execution_count": 16,
     "metadata": {},
     "output_type": "execute_result"
    }
   ],
   "source": [
    "numr=0\n",
    "denm=0\n",
    "rsqr=0\n",
    "for i in range(len(y_test)):\n",
    "    numr+=(y_test[i]-y_pred[i])**2\n",
    "    denm+=(y_test[i]-np.mean(y_test))**2\n",
    "1-numr/denm"
   ]
  },
  {
   "cell_type": "code",
   "execution_count": null,
   "id": "8a05038b",
   "metadata": {},
   "outputs": [],
   "source": []
  }
 ],
 "metadata": {
  "kernelspec": {
   "display_name": "Python 3 (ipykernel)",
   "language": "python",
   "name": "python3"
  },
  "language_info": {
   "codemirror_mode": {
    "name": "ipython",
    "version": 3
   },
   "file_extension": ".py",
   "mimetype": "text/x-python",
   "name": "python",
   "nbconvert_exporter": "python",
   "pygments_lexer": "ipython3",
   "version": "3.8.12"
  }
 },
 "nbformat": 4,
 "nbformat_minor": 5
}
